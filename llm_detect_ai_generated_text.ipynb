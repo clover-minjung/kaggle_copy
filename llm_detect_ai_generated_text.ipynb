{
 "cells": [
  {
   "cell_type": "code",
   "execution_count": 24,
   "metadata": {},
   "outputs": [],
   "source": [
    "# 필요한 라이브러리 불러오기\n",
    "import numpy as np\n",
    "import pandas as pd\n",
    "from matplotlib import pyplot as plt\n",
    "import seaborn as sns\n",
    "\n",
    "from sklearn.feature_extraction.text import CountVectorizer\n",
    "from collections import Counter"
   ]
  },
  {
   "cell_type": "markdown",
   "metadata": {},
   "source": [
    "## 데이터 불러오기"
   ]
  },
  {
   "cell_type": "code",
   "execution_count": 46,
   "metadata": {},
   "outputs": [],
   "source": [
    "# 학습 데이터\n",
    "train = pd.read_csv('detect_ai_generated_text/dataset/train_essays.csv')\n",
    "test = pd.read_csv('detect_ai_generated_text/dataset/test_essays.csv')\n",
    "prompt = pd.read_csv('detect_ai_generated_text/dataset/train_prompts.csv')"
   ]
  },
  {
   "cell_type": "code",
   "execution_count": 7,
   "metadata": {},
   "outputs": [
    {
     "data": {
      "text/html": [
       "<div>\n",
       "<style scoped>\n",
       "    .dataframe tbody tr th:only-of-type {\n",
       "        vertical-align: middle;\n",
       "    }\n",
       "\n",
       "    .dataframe tbody tr th {\n",
       "        vertical-align: top;\n",
       "    }\n",
       "\n",
       "    .dataframe thead th {\n",
       "        text-align: right;\n",
       "    }\n",
       "</style>\n",
       "<table border=\"1\" class=\"dataframe\">\n",
       "  <thead>\n",
       "    <tr style=\"text-align: right;\">\n",
       "      <th></th>\n",
       "      <th>id</th>\n",
       "      <th>prompt_id</th>\n",
       "      <th>text</th>\n",
       "      <th>generated</th>\n",
       "    </tr>\n",
       "  </thead>\n",
       "  <tbody>\n",
       "    <tr>\n",
       "      <th>0</th>\n",
       "      <td>0059830c</td>\n",
       "      <td>0</td>\n",
       "      <td>Cars. Cars have been around since they became ...</td>\n",
       "      <td>0</td>\n",
       "    </tr>\n",
       "    <tr>\n",
       "      <th>1</th>\n",
       "      <td>005db917</td>\n",
       "      <td>0</td>\n",
       "      <td>Transportation is a large necessity in most co...</td>\n",
       "      <td>0</td>\n",
       "    </tr>\n",
       "    <tr>\n",
       "      <th>2</th>\n",
       "      <td>008f63e3</td>\n",
       "      <td>0</td>\n",
       "      <td>\"America's love affair with it's vehicles seem...</td>\n",
       "      <td>0</td>\n",
       "    </tr>\n",
       "  </tbody>\n",
       "</table>\n",
       "</div>"
      ],
      "text/plain": [
       "         id  prompt_id                                               text  \\\n",
       "0  0059830c          0  Cars. Cars have been around since they became ...   \n",
       "1  005db917          0  Transportation is a large necessity in most co...   \n",
       "2  008f63e3          0  \"America's love affair with it's vehicles seem...   \n",
       "\n",
       "   generated  \n",
       "0          0  \n",
       "1          0  \n",
       "2          0  "
      ]
     },
     "execution_count": 7,
     "metadata": {},
     "output_type": "execute_result"
    }
   ],
   "source": [
    "train.head(3)"
   ]
  },
  {
   "cell_type": "code",
   "execution_count": 8,
   "metadata": {},
   "outputs": [
    {
     "data": {
      "text/html": [
       "<div>\n",
       "<style scoped>\n",
       "    .dataframe tbody tr th:only-of-type {\n",
       "        vertical-align: middle;\n",
       "    }\n",
       "\n",
       "    .dataframe tbody tr th {\n",
       "        vertical-align: top;\n",
       "    }\n",
       "\n",
       "    .dataframe thead th {\n",
       "        text-align: right;\n",
       "    }\n",
       "</style>\n",
       "<table border=\"1\" class=\"dataframe\">\n",
       "  <thead>\n",
       "    <tr style=\"text-align: right;\">\n",
       "      <th></th>\n",
       "      <th>id</th>\n",
       "      <th>prompt_id</th>\n",
       "      <th>text</th>\n",
       "    </tr>\n",
       "  </thead>\n",
       "  <tbody>\n",
       "    <tr>\n",
       "      <th>0</th>\n",
       "      <td>0000aaaa</td>\n",
       "      <td>2</td>\n",
       "      <td>Aaa bbb ccc.</td>\n",
       "    </tr>\n",
       "    <tr>\n",
       "      <th>1</th>\n",
       "      <td>1111bbbb</td>\n",
       "      <td>3</td>\n",
       "      <td>Bbb ccc ddd.</td>\n",
       "    </tr>\n",
       "    <tr>\n",
       "      <th>2</th>\n",
       "      <td>2222cccc</td>\n",
       "      <td>4</td>\n",
       "      <td>CCC ddd eee.</td>\n",
       "    </tr>\n",
       "  </tbody>\n",
       "</table>\n",
       "</div>"
      ],
      "text/plain": [
       "         id  prompt_id          text\n",
       "0  0000aaaa          2  Aaa bbb ccc.\n",
       "1  1111bbbb          3  Bbb ccc ddd.\n",
       "2  2222cccc          4  CCC ddd eee."
      ]
     },
     "execution_count": 8,
     "metadata": {},
     "output_type": "execute_result"
    }
   ],
   "source": [
    "test.head()"
   ]
  },
  {
   "cell_type": "code",
   "execution_count": 9,
   "metadata": {},
   "outputs": [
    {
     "data": {
      "text/html": [
       "<div>\n",
       "<style scoped>\n",
       "    .dataframe tbody tr th:only-of-type {\n",
       "        vertical-align: middle;\n",
       "    }\n",
       "\n",
       "    .dataframe tbody tr th {\n",
       "        vertical-align: top;\n",
       "    }\n",
       "\n",
       "    .dataframe thead th {\n",
       "        text-align: right;\n",
       "    }\n",
       "</style>\n",
       "<table border=\"1\" class=\"dataframe\">\n",
       "  <thead>\n",
       "    <tr style=\"text-align: right;\">\n",
       "      <th></th>\n",
       "      <th>prompt_id</th>\n",
       "      <th>prompt_name</th>\n",
       "      <th>instructions</th>\n",
       "      <th>source_text</th>\n",
       "    </tr>\n",
       "  </thead>\n",
       "  <tbody>\n",
       "    <tr>\n",
       "      <th>0</th>\n",
       "      <td>0</td>\n",
       "      <td>Car-free cities</td>\n",
       "      <td>Write an explanatory essay to inform fellow ci...</td>\n",
       "      <td># In German Suburb, Life Goes On Without Cars ...</td>\n",
       "    </tr>\n",
       "    <tr>\n",
       "      <th>1</th>\n",
       "      <td>1</td>\n",
       "      <td>Does the electoral college work?</td>\n",
       "      <td>Write a letter to your state senator in which ...</td>\n",
       "      <td># What Is the Electoral College? by the Office...</td>\n",
       "    </tr>\n",
       "  </tbody>\n",
       "</table>\n",
       "</div>"
      ],
      "text/plain": [
       "   prompt_id                       prompt_name  \\\n",
       "0          0                   Car-free cities   \n",
       "1          1  Does the electoral college work?   \n",
       "\n",
       "                                        instructions  \\\n",
       "0  Write an explanatory essay to inform fellow ci...   \n",
       "1  Write a letter to your state senator in which ...   \n",
       "\n",
       "                                         source_text  \n",
       "0  # In German Suburb, Life Goes On Without Cars ...  \n",
       "1  # What Is the Electoral College? by the Office...  "
      ]
     },
     "execution_count": 9,
     "metadata": {},
     "output_type": "execute_result"
    }
   ],
   "source": [
    "prompt.head()"
   ]
  },
  {
   "cell_type": "markdown",
   "metadata": {},
   "source": [
    "## EDA\n",
    "* 데이터셋 확인\n",
    "* 결측치 확인\n",
    "* 데이터 시각화"
   ]
  },
  {
   "cell_type": "markdown",
   "metadata": {},
   "source": [
    "### 데이터 확인"
   ]
  },
  {
   "cell_type": "code",
   "execution_count": 10,
   "metadata": {},
   "outputs": [
    {
     "name": "stdout",
     "output_type": "stream",
     "text": [
      "<class 'pandas.core.frame.DataFrame'>\n",
      "RangeIndex: 1378 entries, 0 to 1377\n",
      "Data columns (total 4 columns):\n",
      " #   Column     Non-Null Count  Dtype \n",
      "---  ------     --------------  ----- \n",
      " 0   id         1378 non-null   object\n",
      " 1   prompt_id  1378 non-null   int64 \n",
      " 2   text       1378 non-null   object\n",
      " 3   generated  1378 non-null   int64 \n",
      "dtypes: int64(2), object(2)\n",
      "memory usage: 43.2+ KB\n",
      "\n",
      "학습 데이터 갯수:  (1378, 4)\n"
     ]
    }
   ],
   "source": [
    "# 데이터 정보 확인\n",
    "train.info()\n",
    "print(\"\\n학습 데이터 갯수: \", train.shape)"
   ]
  },
  {
   "cell_type": "code",
   "execution_count": 13,
   "metadata": {},
   "outputs": [
    {
     "name": "stdout",
     "output_type": "stream",
     "text": [
      "<class 'pandas.core.frame.DataFrame'>\n",
      "RangeIndex: 2 entries, 0 to 1\n",
      "Data columns (total 4 columns):\n",
      " #   Column        Non-Null Count  Dtype \n",
      "---  ------        --------------  ----- \n",
      " 0   prompt_id     2 non-null      int64 \n",
      " 1   prompt_name   2 non-null      object\n",
      " 2   instructions  2 non-null      object\n",
      " 3   source_text   2 non-null      object\n",
      "dtypes: int64(1), object(3)\n",
      "memory usage: 192.0+ bytes\n",
      "\n",
      "프롬프트 데이터 갯수:  (1378, 4)\n"
     ]
    }
   ],
   "source": [
    "prompt.info()\n",
    "print(\"\\n프롬프트 데이터 갯수: \", train.shape)"
   ]
  },
  {
   "cell_type": "code",
   "execution_count": 12,
   "metadata": {},
   "outputs": [
    {
     "data": {
      "text/plain": [
       "id           0\n",
       "prompt_id    0\n",
       "text         0\n",
       "generated    0\n",
       "dtype: int64"
      ]
     },
     "execution_count": 12,
     "metadata": {},
     "output_type": "execute_result"
    }
   ],
   "source": [
    "# 결측치 확인\n",
    "train.isnull().sum()"
   ]
  },
  {
   "cell_type": "code",
   "execution_count": 14,
   "metadata": {},
   "outputs": [
    {
     "data": {
      "text/plain": [
       "id           0\n",
       "prompt_id    0\n",
       "text         0\n",
       "dtype: int64"
      ]
     },
     "execution_count": 14,
     "metadata": {},
     "output_type": "execute_result"
    }
   ],
   "source": [
    "test.isnull().sum()"
   ]
  },
  {
   "cell_type": "code",
   "execution_count": 15,
   "metadata": {},
   "outputs": [
    {
     "data": {
      "text/plain": [
       "prompt_id       0\n",
       "prompt_name     0\n",
       "instructions    0\n",
       "source_text     0\n",
       "dtype: int64"
      ]
     },
     "execution_count": 15,
     "metadata": {},
     "output_type": "execute_result"
    }
   ],
   "source": [
    "prompt.isnull().sum()"
   ]
  },
  {
   "cell_type": "markdown",
   "metadata": {},
   "source": [
    "target 분포 확인"
   ]
  },
  {
   "cell_type": "code",
   "execution_count": 16,
   "metadata": {},
   "outputs": [
    {
     "data": {
      "text/plain": [
       "generated\n",
       "0    1375\n",
       "1       3\n",
       "Name: count, dtype: int64"
      ]
     },
     "execution_count": 16,
     "metadata": {},
     "output_type": "execute_result"
    }
   ],
   "source": [
    "train['generated'].value_counts()"
   ]
  },
  {
   "cell_type": "code",
   "execution_count": 17,
   "metadata": {},
   "outputs": [
    {
     "data": {
      "text/plain": [
       "prompt_id\n",
       "1    2\n",
       "0    1\n",
       "Name: count, dtype: int64"
      ]
     },
     "execution_count": 17,
     "metadata": {},
     "output_type": "execute_result"
    }
   ],
   "source": [
    "llm_generated_counts = train[train['generated'] == 1]['prompt_id'].value_counts()\n",
    "llm_generated_counts"
   ]
  },
  {
   "cell_type": "markdown",
   "metadata": {},
   "source": [
    "### 에세이 본문 분석 및 시각화\n",
    "* 텍스트 길이\n",
    "* 단어\n",
    "* 프롬프트 연관성 "
   ]
  },
  {
   "cell_type": "markdown",
   "metadata": {},
   "source": [
    "#### 텍스트 길이 시각화 및 통계량 확인"
   ]
  },
  {
   "cell_type": "code",
   "execution_count": 20,
   "metadata": {},
   "outputs": [
    {
     "data": {
      "image/png": "[encoded data removed]",
      "text/plain": [
       "<Figure size 1400x700 with 1 Axes>"
      ]
     },
     "metadata": {},
     "output_type": "display_data"
    }
   ],
   "source": [
    "# text 열의 길이를 기반으로 essay_length 열 생성\n",
    "train['essay_length'] = train['text'].apply(len)\n",
    "\n",
    "plt.figure(figsize=(14, 7))\n",
    "\n",
    "# 학생 에세이 길이 분포\n",
    "sns.histplot(train[train['generated'] == 0]['essay_length'], color=\"skyblue\", label='Student Essays', kde=True)\n",
    "\n",
    "# LLM 에세이 길이 분포\n",
    "sns.histplot(train[train['generated'] == 1]['essay_length'], color=\"red\", label='LLM Essays', kde=True)\n",
    "\n",
    "plt.title('Distribution of Essay Lengths')\n",
    "plt.xlabel('Essay Length')\n",
    "plt.ylabel('Frequency')\n",
    "plt.legend()\n",
    "plt.show()"
   ]
  },
  {
   "cell_type": "code",
   "execution_count": 19,
   "metadata": {},
   "outputs": [
    {
     "data": {
      "image/png": "[encoded data removed]",
      "text/plain": [
       "<Figure size 1200x800 with 1 Axes>"
      ]
     },
     "metadata": {},
     "output_type": "display_data"
    }
   ],
   "source": [
    "# 에세이 길이 비교 시각화\n",
    "plt.figure(figsize=(12, 8))\n",
    "sns.boxplot(x='generated', y='essay_length', data=train)\n",
    "plt.title('Comparison of Essay Lengths by Source')\n",
    "plt.xlabel('Essay Source')\n",
    "plt.ylabel('Essay Length')\n",
    "plt.xticks([0, 1], ['Student', 'LLM'])\n",
    "plt.show()"
   ]
  },
  {
   "cell_type": "code",
   "execution_count": 21,
   "metadata": {},
   "outputs": [],
   "source": [
    "# 텍스트 메트릭 계산 함수\n",
    "def calculate_text_metrics_simple(text):\n",
    "    # 공백 기준으로 단어 분리\n",
    "    words = text.split()\n",
    "    # 마침표 기준으로 문장 분리\n",
    "    sentences = text.split('.')\n",
    "    # 단어 갯수\n",
    "    word_count = len(words)\n",
    "    unique_word_count = len(set(words))\n",
    "    # 문장 갯수\n",
    "    sentence_count = len(sentences)\n",
    "    # 평균 단어 길이\n",
    "    avg_word_length = sum(len(word) for word in words) / word_count if word_count > 0 else 0\n",
    "    return word_count, unique_word_count, sentence_count, avg_word_length"
   ]
  },
  {
   "cell_type": "code",
   "execution_count": 22,
   "metadata": {},
   "outputs": [],
   "source": [
    "# 텍스트 메트릭 계산\n",
    "train['metrics'] = train['text'].apply(calculate_text_metrics_simple)\n",
    "\n",
    "# 메트릭 열 분해\n",
    "train[['word_count', 'unique_word_count', 'sentence_count', 'avg_word_length']] = pd.DataFrame(train['metrics'].tolist(), index=train.index)\n",
    "\n",
    "# 메트릭 열 삭제\n",
    "train.drop('metrics', axis=1, inplace=True)"
   ]
  },
  {
   "cell_type": "code",
   "execution_count": 23,
   "metadata": {},
   "outputs": [
    {
     "data": {
      "text/html": [
       "<div>\n",
       "<style scoped>\n",
       "    .dataframe tbody tr th:only-of-type {\n",
       "        vertical-align: middle;\n",
       "    }\n",
       "\n",
       "    .dataframe tbody tr th {\n",
       "        vertical-align: top;\n",
       "    }\n",
       "\n",
       "    .dataframe thead th {\n",
       "        text-align: right;\n",
       "    }\n",
       "</style>\n",
       "<table border=\"1\" class=\"dataframe\">\n",
       "  <thead>\n",
       "    <tr style=\"text-align: right;\">\n",
       "      <th></th>\n",
       "      <th>word_count</th>\n",
       "      <th>unique_word_count</th>\n",
       "      <th>sentence_count</th>\n",
       "      <th>avg_word_length</th>\n",
       "    </tr>\n",
       "    <tr>\n",
       "      <th>generated</th>\n",
       "      <th></th>\n",
       "      <th></th>\n",
       "      <th></th>\n",
       "      <th></th>\n",
       "    </tr>\n",
       "  </thead>\n",
       "  <tbody>\n",
       "    <tr>\n",
       "      <th>0</th>\n",
       "      <td>556.768727</td>\n",
       "      <td>275.334545</td>\n",
       "      <td>30.063273</td>\n",
       "      <td>4.694868</td>\n",
       "    </tr>\n",
       "    <tr>\n",
       "      <th>1</th>\n",
       "      <td>260.666667</td>\n",
       "      <td>146.333333</td>\n",
       "      <td>13.000000</td>\n",
       "      <td>4.935610</td>\n",
       "    </tr>\n",
       "  </tbody>\n",
       "</table>\n",
       "</div>"
      ],
      "text/plain": [
       "           word_count  unique_word_count  sentence_count  avg_word_length\n",
       "generated                                                                \n",
       "0          556.768727         275.334545       30.063273         4.694868\n",
       "1          260.666667         146.333333       13.000000         4.935610"
      ]
     },
     "execution_count": 23,
     "metadata": {},
     "output_type": "execute_result"
    }
   ],
   "source": [
    "# 학생 에세이와 LLM 에세이 메트릭 비교\n",
    "comparison_metrics = train.groupby('generated')[['word_count', 'unique_word_count', 'sentence_count', 'avg_word_length']].mean()\n",
    "comparison_metrics"
   ]
  },
  {
   "cell_type": "markdown",
   "metadata": {},
   "source": [
    "#### 빈도수가 높은 단어 시각화"
   ]
  },
  {
   "cell_type": "code",
   "execution_count": 27,
   "metadata": {},
   "outputs": [],
   "source": [
    "def plot_most_common_words(text_series, num_words=30, title=\"Most Common Words\"):\n",
    "    # 모든 텍스트를 소문자로 변환하고 공백으로 분리\n",
    "    all_text = ' '.join(text_series).lower()\n",
    "    words = all_text.split()\n",
    "    word_freq = Counter(words)\n",
    "    common_words = word_freq.most_common(num_words)\n",
    "    \n",
    "    # 가장 빈도수가 높은 단어 시각화\n",
    "    plt.figure(figsize=(15, 7))\n",
    "    sns.barplot(x=[word for word, freq in common_words], y=[freq for word, freq in common_words])\n",
    "    plt.title(title)\n",
    "    plt.xticks(rotation=45)\n",
    "    plt.xlabel('Words')\n",
    "    plt.ylabel('Frequency')\n",
    "    plt.show()"
   ]
  },
  {
   "cell_type": "code",
   "execution_count": 26,
   "metadata": {},
   "outputs": [
    {
     "data": {
      "image/png": "[encoded data removed]",
      "text/plain": [
       "<Figure size 1500x600 with 1 Axes>"
      ]
     },
     "metadata": {},
     "output_type": "display_data"
    },
    {
     "data": {
      "image/png": "[encoded data removed]",
      "text/plain": [
       "<Figure size 1500x600 with 1 Axes>"
      ]
     },
     "metadata": {},
     "output_type": "display_data"
    }
   ],
   "source": [
    "plot_most_common_words(train[train['generated'] == 0]['text'], title=\"Most Common Words in Student Essays\")\n",
    "plot_most_common_words(train[train['generated'] == 1]['text'], title=\"Most Common Words in LLM Essays\")"
   ]
  },
  {
   "cell_type": "markdown",
   "metadata": {},
   "source": [
    "#### 프롬프트와 에세이 연관성 확인 및 시각화"
   ]
  },
  {
   "cell_type": "code",
   "execution_count": 29,
   "metadata": {},
   "outputs": [],
   "source": [
    "# text 열의 길이를 기반으로 essay_length 열 생성\n",
    "train['essay_length'] = train['text'].apply(len)\n",
    "\n",
    "# 프롬프트 데이터프레임과 병합\n",
    "merged_df = train.merge(prompt, on='prompt_id', how='left')\n",
    "\n",
    "# 프롬프트 빈도 분석\n",
    "prompt_usage = merged_df['prompt_id'].value_counts()\n",
    "\n",
    "# 프롬프트별 평균 에세이 길이\n",
    "avg_length_by_prompt = merged_df.groupby('prompt_id')['essay_length'].mean()"
   ]
  },
  {
   "cell_type": "code",
   "execution_count": 30,
   "metadata": {},
   "outputs": [
    {
     "data": {
      "text/plain": [
       "'Prompt Usage Frequency'"
      ]
     },
     "metadata": {},
     "output_type": "display_data"
    },
    {
     "data": {
      "text/plain": [
       "prompt_id\n",
       "0    708\n",
       "1    670\n",
       "Name: count, dtype: int64"
      ]
     },
     "metadata": {},
     "output_type": "display_data"
    }
   ],
   "source": [
    "# 프롬프트 빈도 표시\n",
    "display(\"Prompt Usage Frequency\")\n",
    "display(prompt_usage)"
   ]
  },
  {
   "cell_type": "code",
   "execution_count": 31,
   "metadata": {},
   "outputs": [
    {
     "data": {
      "text/plain": [
       "'Average Essay Length by Prompt'"
      ]
     },
     "metadata": {},
     "output_type": "display_data"
    },
    {
     "data": {
      "text/plain": [
       "prompt_id\n",
       "0    3251.927966\n",
       "1    3081.473134\n",
       "Name: essay_length, dtype: float64"
      ]
     },
     "metadata": {},
     "output_type": "display_data"
    }
   ],
   "source": [
    "# 프롬프트별 평균 에세이 길이 표시\n",
    "display(\"Average Essay Length by Prompt\")\n",
    "display(avg_length_by_prompt)"
   ]
  },
  {
   "cell_type": "code",
   "execution_count": 34,
   "metadata": {},
   "outputs": [
    {
     "data": {
      "image/png": "[encoded data removed]",
      "text/plain": [
       "<Figure size 400x300 with 1 Axes>"
      ]
     },
     "metadata": {},
     "output_type": "display_data"
    }
   ],
   "source": [
    "# 프롬프트별 평균 에세이 길이 시각화\n",
    "plt.figure(figsize=(4, 3))\n",
    "\n",
    "avg_length_by_prompt.plot(kind='bar')\n",
    "\n",
    "plt.title('Average Essay Length by Prompt')\n",
    "plt.xlabel('Prompt ID')\n",
    "plt.ylabel('Average Essay Length')\n",
    "plt.show()"
   ]
  },
  {
   "cell_type": "code",
   "execution_count": 41,
   "metadata": {},
   "outputs": [],
   "source": [
    "# 프롬프트 키워드 시각화\n",
    "def plot_top_keywords(data, column, num_keywords=10):\n",
    "    # 영어 불용어 제거\n",
    "    vec = CountVectorizer(stop_words='english').fit(data[column])\n",
    "    bag_of_words = vec.transform(data[column])\n",
    "\n",
    "    # 단어 빈도 계산\n",
    "    sum_words = bag_of_words.sum(axis=0) \n",
    "\n",
    "    # 단어 빈도 정렬\n",
    "    words_freq = [(word, sum_words[0, idx]) for word, idx in vec.vocabulary_.items()]\n",
    "    words_freq = sorted(words_freq, key = lambda x: x[1], reverse=True)\n",
    "\n",
    "    # 상위 키워드 선택\n",
    "    top_words = words_freq[:num_keywords]\n",
    "    print(\"\\ntop_words:\", [word for word, _ in top_words])\n",
    "\n",
    "    # 데이터프레임 변환\n",
    "    top_df = pd.DataFrame(top_words, columns=['Keyword', 'Frequency'])\n",
    "    \n",
    "    # 막대 그래프 시각화\n",
    "    plt.figure(figsize=(7,4))\n",
    "    sns.barplot(x='Frequency', y='Keyword', data=top_df)\n",
    "    plt.title(f'Top {num_keywords} Keywords in {column}')\n",
    "    plt.show()"
   ]
  },
  {
   "cell_type": "code",
   "execution_count": 42,
   "metadata": {},
   "outputs": [
    {
     "name": "stdout",
     "output_type": "stream",
     "text": [
      "\n",
      "top_words: ['electoral', 'vote', 'electors', 'car', 'college', 'president', 'state', 'election', 'votes', 'cars']\n"
     ]
    },
    {
     "data": {
      "image/png": "[encoded data removed]",
      "text/plain": [
       "<Figure size 700x400 with 1 Axes>"
      ]
     },
     "metadata": {},
     "output_type": "display_data"
    }
   ],
   "source": [
    "# 프롬프트 키워드 시각화\n",
    "plot_top_keywords(prompt, 'source_text')"
   ]
  },
  {
   "cell_type": "code",
   "execution_count": 43,
   "metadata": {},
   "outputs": [
    {
     "name": "stdout",
     "output_type": "stream",
     "text": [
      "\n",
      "top_words: ['electoral', 'people', 'college', 'vote', 'car', 'cars', 'states', 'president', 'votes', 'electors']\n"
     ]
    },
    {
     "data": {
      "image/png": "[encoded data removed]",
      "text/plain": [
       "<Figure size 700x400 with 1 Axes>"
      ]
     },
     "metadata": {},
     "output_type": "display_data"
    }
   ],
   "source": [
    "# 에세이 키워드 시각화\n",
    "plot_top_keywords(train, 'text')"
   ]
  },
  {
   "cell_type": "markdown",
   "metadata": {},
   "source": [
    "필사 Notebook\n",
    "----\n",
    "[4rd Place Solution](https://www.kaggle.com/code/chasembowers/4th-place-solution/notebook)"
   ]
  },
  {
   "cell_type": "code",
   "execution_count": null,
   "metadata": {},
   "outputs": [],
   "source": [
    "!pip install -q -U accelerate --no-index --find-links ../input/llm-detect-pip/\n",
    "!pip install -q -U bitsandbytes --no-index --find-links ../input/llm-detect-pip/\n",
    "!pip install -q -U transformers --no-index --find-links ../input/llm-detect-pip/"
   ]
  },
  {
   "cell_type": "code",
   "execution_count": null,
   "metadata": {},
   "outputs": [],
   "source": [
    "!pip install /kaggle/input/llm-science-exam-lib-ds/keras_core-0.1.7-py3-none-any.whl --no-deps\n",
    "!pip install /kaggle/input/llm-science-exam-lib-ds/keras_nlp-0.6.2-py3-none-any.whl --no-deps"
   ]
  },
  {
   "cell_type": "code",
   "execution_count": null,
   "metadata": {},
   "outputs": [],
   "source": [
    "# 필요한 라이브러리 불러오기\n",
    "import sys\n",
    "import gc\n",
    "import time \n",
    "import os\n",
    "import itertools\n",
    "import regex as re\n",
    "import random\n",
    "import pickle\n",
    "import torch\n",
    "\n",
    "import ctypes\n",
    "libc = ctypes.CDLL(\"libc.so.6\")\n",
    "\n",
    "from sklearn.model_selection import StratifiedKFold\n",
    "from sklearn.metrics import roc_auc_score\n",
    "from lightgbm import LGBMClassifier\n",
    "from catboost import CatBoostClassifier\n",
    "from sklearn.feature_extraction.text import TfidfVectorizer\n",
    "\n",
    "from tokenizers import (\n",
    "    decoders,\n",
    "    models,\n",
    "    normalizers,\n",
    "    pre_tokenizers,\n",
    "    processors,\n",
    "    trainers,\n",
    "    Tokenizer,\n",
    ")\n",
    "\n",
    "from datasets import Dataset\n",
    "from tqdm.auto import tqdm\n",
    "from transformers import PreTrainedTokenizerFast\n",
    "\n",
    "from sklearn.linear_model import SGDClassifier\n",
    "from sklearn.naive_bayes import MultinomialNB\n",
    "from sklearn.ensemble import VotingClassifier\n",
    "\n",
    "from sklearn.metrics import make_scorer, accuracy_score\n",
    "from scipy.sparse import csr_matrix, vstack, hstack\n",
    "\n",
    "from concurrent.futures import ProcessPoolExecutor"
   ]
  },
  {
   "cell_type": "code",
   "execution_count": null,
   "metadata": {},
   "outputs": [],
   "source": [
    "# 랜덤 시드 설정\n",
    "seed = 202\n",
    "\n",
    "# 테스트 데이터 누락 수정 여부\n",
    "isFixTestLeakage = True\n",
    "\n",
    "# 문장 구문 수정 여부\n",
    "isCorrectSentence = True"
   ]
  },
  {
   "cell_type": "code",
   "execution_count": null,
   "metadata": {},
   "outputs": [],
   "source": [
    "# 케라스 백엔드 설정\n",
    "os.environ[\"KERAS_BACKEND\"] = \"torch\"\n",
    "\n",
    "import keras_core as keras \n",
    "import keras_core.backend as K\n",
    "import jax\n",
    "\n",
    "import tensorflow as tf\n",
    "\n",
    "from glob import glob"
   ]
  },
  {
   "cell_type": "code",
   "execution_count": null,
   "metadata": {},
   "outputs": [],
   "source": [
    "def seed_everything(seed=2023):\n",
    "    random.seed(seed)\n",
    "    np.random.seed(seed)\n",
    "\n",
    "seed_everything(seed)"
   ]
  },
  {
   "cell_type": "markdown",
   "metadata": {},
   "source": [
    "## 데이터 불러오기 및 전처리"
   ]
  },
  {
   "cell_type": "code",
   "execution_count": null,
   "metadata": {},
   "outputs": [],
   "source": [
    "# 패치 제출 여부\n",
    "FAKE_SUBMISSION = True\n",
    "\n",
    "# 테스트 데이터 불러오기\n",
    "test = pd.read_csv('detect_ai_generated_text/dataset/test_essays.csv')\n",
    "\n",
    "# 검증 데이터 불러오기\n",
    "daigt2_val = pd.read_csv(\"detect_ai_generated_text/dataset/daigt2-wo-official-with-prompt-id/validation.csv\")\n",
    "daigt2_val.reset_index(drop=True, inplace=True)\n",
    "\n",
    "# 라이브 제출 여부\n",
    "IS_LIVE_SUBMISSION = True\n",
    "\n",
    "# 팔로워 모델 가중치\n",
    "FOLLOWER_MODEL_WEIGHT = 1.1\n",
    "\n",
    "# 모델 캐시 초기화\n",
    "mistral_heuristic_cache = None\n",
    "ertugrul_deberta_cache = None\n",
    "\n",
    "# 라이브 제출 여부에 따라 데이터 불러오기\n",
    "if IS_LIVE_SUBMISSION:\n",
    "    daigt2_train = pd.read_csv(\"detect_ai_generated_text/dataset/typo_intro/typo_intro.csv\", sep=',')\n",
    "    daigt2_train = daigt2_train.drop_duplicates(subset=['text'])\n",
    "    daigt2_train.reset_index(drop=True, inplace=True)\n",
    "    test = test\n",
    "    # 최대 예측 데이터 수\n",
    "    MAX_EXAMPLES_TO_PREDICT = 1000000\n",
    "    # GBM 반복 비율\n",
    "    GBOOST_ITERATION_FRACTION = 1\n",
    "    # SVC 배깅 비율\n",
    "    SVC_BAGGING_FRACTION = .3\n",
    "\n",
    "# 패치 제출 여부에 따라 데이터 불러오기\n",
    "else:    \n",
    "    if FAKE_SUBMISSION:\n",
    "        if not torch.cuda.is_available(): raise RuntimeError(\"CUDA is not available.\")\n",
    "        \n",
    "        # 제출 데이터프레임 생성\n",
    "        sub = pd.DataFrame({'id':[],'generated':[]})\n",
    "        sub.to_csv('submission.csv', index=False)\n",
    "        sys.exit()\n",
    "        \n",
    "    # 트레이닝 데이터 불러오기\n",
    "    daigt2_train = pd.read_csv(\"detect_ai_generated_text/dataset/typo_intro/typo_intro.csv\", sep=',')\n",
    "    daigt2_train.reset_index(drop=True, inplace=True)\n",
    "\n",
    "    # 캐시 초기화\n",
    "    mistral_heuristic_cache = {}\n",
    "    with open(\"/kaggle/input/jan13-quantile-string-mistral-cache/jan_13_test_quantiles.pkl\", 'rb') as quantiles_pickle_file:\n",
    "        mistral_heuristic_cache[\"test\"] = pickle.load(quantiles_pickle_file)\n",
    "        \n",
    "    # 캐시 초기화\n",
    "    with open(\"/kaggle/input/erturgrul-deberta-preds-cache-jan16/ertugrul_deberta_predictions.pkl\", 'rb') as deberta_preds_file:\n",
    "        ertugrul_deberta_cache = pickle.load(deberta_preds_file)\n",
    "\n",
    "    # 테스트 데이터 불러오기\n",
    "    test = pd.read_csv(\"detect_ai_generated_text/dataset/daigt2-wo-official-with-prompt-id/test_no_label.csv\")\n",
    "    # 최대 예측 데이터 수\n",
    "    MAX_EXAMPLES_TO_PREDICT = 1200\n",
    "    # GBM 반복 비율\n",
    "    GBOOST_ITERATION_FRACTION = .1\n",
    "    # SVC 배깅 비율\n",
    "    SVC_BAGGING_FRACTION = .1\n"
   ]
  },
  {
   "cell_type": "code",
   "execution_count": null,
   "metadata": {},
   "outputs": [],
   "source": [
    "# 프롬프트 제외 리스트\n",
    "excluded_prompt_name_list = ['Distance learning','Grades for extracurricular activities','Summer projects']\n",
    "daigt2_train = daigt2_train[~(daigt2_train['prompt_name'].isin(excluded_prompt_name_list))]\n",
    "\n",
    "# 중복 제거\n",
    "daigt2_train = daigt2_train.drop_duplicates(subset=['text'])\n",
    "daigt2_train.reset_index(drop=True, inplace=True)"
   ]
  },
  {
   "cell_type": "code",
   "execution_count": null,
   "metadata": {},
   "outputs": [],
   "source": [
    "# 로지스틱 함수 정의\n",
    "def safe_logodds(prob_arr):\n",
    "    # 확률 클리핑\n",
    "    clipped = np.clip(a=prob_arr, a_min=.001, a_max=.999)\n",
    "    return np.log(clipped/(1-clipped))"
   ]
  },
  {
   "cell_type": "markdown",
   "metadata": {},
   "source": [
    "## 학습 및 예측"
   ]
  },
  {
   "cell_type": "markdown",
   "metadata": {},
   "source": [
    "### Deberta 모델 설정 및 예측"
   ]
  },
  {
   "cell_type": "code",
   "execution_count": null,
   "metadata": {},
   "outputs": [],
   "source": [
    "from dataclasses import dataclass\n",
    "from transformers import AutoTokenizer, AutoModel\n",
    "from torch.utils.data import DataLoader\n",
    "from transformers import AutoModelForSequenceClassification\n",
    "from transformers import AutoModelForCausalLM, BitsAndBytesConfig\n",
    "import transformers\n",
    "from sklearn.metrics import roc_auc_score\n"
   ]
  },
  {
   "cell_type": "code",
   "execution_count": null,
   "metadata": {},
   "outputs": [],
   "source": [
    "# 캐시 초기화\n",
    "torch.cuda.empty_cache()"
   ]
  },
  {
   "cell_type": "code",
   "execution_count": null,
   "metadata": {},
   "outputs": [],
   "source": [
    "# deberta 모델 캐시 초기화\n",
    "if ertugrul_deberta_cache is None:\n",
    "\n",
    "    # deberta 모델 설정\n",
    "    @dataclass\n",
    "    class ertugrul_debert_cfg:\n",
    "        transformer_name = \"/kaggle/input/huggingfacedebertav3variants/deberta-v3-large\"\n",
    "        batch_size = 8\n",
    "        max_len = 1024\n",
    "        n_classes = 1\n",
    "\n",
    "    # deberta 토크나이저 초기화\n",
    "    ertugrul_debert_tokenizer = AutoTokenizer.from_pretrained(ertugrul_debert_cfg.transformer_name)\n",
    "\n",
    "    # deberta 텍스트 전처리\n",
    "    def ertugrul_deberta_prepare_input(text):\n",
    "        inputs = ertugrul_debert_tokenizer.encode_plus(\n",
    "            text, \n",
    "            return_tensors=None, \n",
    "            add_special_tokens=True, \n",
    "            max_length=ertugrul_debert_cfg.max_len,\n",
    "            pad_to_max_length=True,\n",
    "            truncation=True,\n",
    "            return_token_type_ids=True\n",
    "        )\n",
    "        # 텐서 변환\n",
    "        for k, v in inputs.items():\n",
    "            inputs[k] = torch.tensor(v, dtype=torch.long)\n",
    "        return inputs\n",
    "\n",
    "    # deberta 데이터셋 클래스\n",
    "    class ErtugrulDebertaTrainDataset(Dataset):\n",
    "        def __init__(self, df):\n",
    "            self.texts = df['text'].values\n",
    "\n",
    "        def __len__(self):\n",
    "            return len(self.texts)\n",
    "\n",
    "        def __getitem__(self, item):\n",
    "            inputs = ertugrul_deberta_prepare_input(self.texts[item])\n",
    "            return inputs\n",
    "\n",
    "    # deberta 데이터셋 합치기\n",
    "    def ertugrul_deberta_collate(inputs):\n",
    "        mask_len = int(inputs[\"attention_mask\"].sum(axis=1).max())\n",
    "        for k, v in inputs.items():\n",
    "            inputs[k] = inputs[k][:,:mask_len]\n",
    "        return inputs\n",
    "\n",
    "    # deberta 테스트 데이터셋 초기화\n",
    "    ertugrul_deberta_test_dataset = ErtugrulDebertaTrainDataset(test)\n",
    "\n",
    "    # deberta 모델 체크포인트 로드\n",
    "    ertugrul_deberta_checkpoint = torch.load(\"/kaggle/input/deblarge-f0-999/last.ckpt\")\n",
    "\n",
    "    # 클래식 모델 클래스\n",
    "    class ClassicFeed(torch.nn.Module):\n",
    "        def __init__(self):\n",
    "            super(ClassicFeed, self).__init__()\n",
    "\n",
    "            self.transformer = AutoModel.from_pretrained(ertugrul_debert_cfg.transformer_name)\n",
    "            self.classifier = torch.nn.Linear(self.transformer.config.hidden_size, 1)\n",
    "\n",
    "        def forward(self, input_ids, attention_mask, token_type_ids):\n",
    "            output = self.transformer(input_ids=input_ids, attention_mask=attention_mask, token_type_ids=token_type_ids)\n",
    "            last_layer_hidden_states = output.last_hidden_state[:, 0, :]\n",
    "            outputs = self.classifier(last_layer_hidden_states)\n",
    "            return outputs\n",
    "\n",
    "    # 클래식 모델 초기화\n",
    "    classic_model = ClassicFeed()\n",
    "    classic_model.load_state_dict(ertugrul_deberta_checkpoint['state_dict'])\n",
    "\n",
    "    # 클래식 모델 평가 모드 설정\n",
    "    classic_model.eval()\n",
    "    # 클래식 모델 훈련 모드 설정\n",
    "    trained_model = classic_model.to('cuda')\n",
    "    # deberta 데이터로더 초기화\n",
    "    ertugrul_deberta_dataloader = DataLoader(ertugrul_deberta_test_dataset, batch_size=ertugrul_debert_cfg.batch_size, shuffle=False)\n",
    "\n",
    "    # deberta 예측 결과 초기화\n",
    "    ertugrul_deberta_predictions = []\n",
    "\n",
    "    # deberta 데이터로더 반복\n",
    "    for batch in tqdm(ertugrul_deberta_dataloader, position=0, leave=True):\n",
    "\n",
    "        batch = ertugrul_deberta_collate(batch)  \n",
    "        for k, v in batch.items():\n",
    "            batch[k] = v\n",
    "\n",
    "        # 배치 데이터 초기화    \n",
    "        input_ids = batch['input_ids'].to('cuda')\n",
    "        attention_mask = batch['attention_mask'].to('cuda')\n",
    "        token_type_ids = batch['token_type_ids'].to('cuda')\n",
    "\n",
    "        # deberta 모델 예측\n",
    "        with torch.no_grad():\n",
    "            deberta_pred = trained_model(input_ids, attention_mask, token_type_ids)\n",
    "\n",
    "        # deberta 예측 결과 추가\n",
    "        ertugrul_deberta_predictions.append(torch.sigmoid(deberta_pred))\n",
    "        del batch\n",
    "\n",
    "    # deberta 예측 결과 연결\n",
    "    ertugrul_deberta_predictions = torch.cat(ertugrul_deberta_predictions).cpu().numpy()[:,0]\n",
    "\n",
    "    # 클래식 모델 삭제\n",
    "    del trained_model\n",
    "    del classic_model\n",
    "    gc.collect()\n",
    "    torch.cuda.empty_cache()\n",
    "    \n",
    "else:\n",
    "    # deberta 모델 캐시 사용\n",
    "    ertugrul_deberta_predictions = ertugrul_deberta_cache\n"
   ]
  },
  {
   "cell_type": "markdown",
   "metadata": {},
   "source": [
    "### 청크 모델 설정 및 예측"
   ]
  },
  {
   "cell_type": "code",
   "execution_count": null,
   "metadata": {},
   "outputs": [],
   "source": [
    "# 청크 모델 초기화\n",
    "chunk_model = AutoModelForSequenceClassification.from_pretrained(\n",
    "    \"/kaggle/input/longformer-predict-model-best-check\",\n",
    ")\n",
    "\n",
    "# 청크 토크나이저 초기화\n",
    "chunk_tokenizer = AutoTokenizer.from_pretrained(\n",
    "    \"/kaggle/input/longformer-predict-model-best-check\"\n",
    ")\n",
    "\n",
    "# 청크 모델 훈련 모드 설정\n",
    "chunk_model.to(\"cuda\")\n",
    "\n",
    "print(\"starting\")\n",
    "# 청크 모델 예측 결과 초기화\n",
    "predict_model_features = []\n",
    "for test_text in tqdm(test[\"text\"].values):\n",
    "\n",
    "    # 청크 토크나이저 테스트 텍스트 토크나이징\n",
    "    tokenized_test_text = chunk_tokenizer(test_text, return_tensors=\"pt\")\n",
    "\n",
    "    # 청크 모델 입력 초기화\n",
    "    input_ids = tokenized_test_text['input_ids'].to('cuda')\n",
    "    attention_mask = tokenized_test_text['attention_mask'].to('cuda')\n",
    "\n",
    "    # 청크 모델 예측\n",
    "    with torch.no_grad():\n",
    "        chunk_pred = safe_logodds(torch.softmax(chunk_model(input_ids, attention_mask).logits[0], dim=-1).cpu().numpy())\n",
    "        predict_model_features.append(chunk_pred)\n",
    "\n",
    "    # 청크 모델 예측 결과 삭제\n",
    "    del chunk_pred\n",
    "    \n",
    "\n",
    "\n",
    "del chunk_model\n",
    "gc.collect()\n",
    "torch.cuda.empty_cache()\n",
    "\n",
    "# 청크 모델 예측 결과 연결\n",
    "predict_model_features = np.array(predict_model_features)\n"
   ]
  },
  {
   "cell_type": "markdown",
   "metadata": {},
   "source": [
    "### mistral 모델 설정"
   ]
  },
  {
   "cell_type": "code",
   "execution_count": null,
   "metadata": {},
   "outputs": [],
   "source": [
    "# mistral 모델 설정\n",
    "bnb_config = BitsAndBytesConfig(\n",
    "    load_in_4bit=True,\n",
    "    bnb_4bit_quant_type=\"nf4\",\n",
    "    bnb_4bit_use_double_quant=True,\n",
    ")\n",
    "\n",
    "# mistral 모델 이름\n",
    "model_name = \"/kaggle/input/mistral/pytorch/7b-v0.1-hf/1\"\n",
    "\n",
    "# mistral 토크나이저 초기화\n",
    "tokenizer = AutoTokenizer.from_pretrained(model_name)\n",
    "tokenizer.pad_token = tokenizer.eos_token\n",
    "\n",
    "# mistral 모델 초기화\n",
    "model = None\n",
    "\n",
    "# mistral 모델 캐시 초기화\n",
    "if mistral_heuristic_cache is None:\n",
    "    model = AutoModelForCausalLM.from_pretrained(\n",
    "            model_name,\n",
    "            load_in_4bit=True,\n",
    "            quantization_config=bnb_config,\n",
    "            torch_dtype=torch.bfloat16,\n",
    "            device_map=\"auto\",\n",
    "            trust_remote_code=True,\n",
    "        )\n",
    "\n",
    "    model.config.pretraining_tp = 1 \n",
    "    # 패드 토큰 아이디 설정\n",
    "    model.config.pad_token_id = tokenizer.pad_token_id\n"
   ]
  },
  {
   "cell_type": "markdown",
   "metadata": {},
   "source": [
    "### 휴리스틱 계산"
   ]
  },
  {
   "cell_type": "code",
   "execution_count": null,
   "metadata": {},
   "outputs": [],
   "source": [
    "# 샘플링 함수 정의\n",
    "def get_samples(logits, labels):\n",
    "    # 로짓 차원 체크\n",
    "    assert logits.shape[0] == 1\n",
    "    # 라벨 차원 체크\n",
    "    assert labels.shape[0] == 1\n",
    "    # 샘플 수 설정\n",
    "    nsamples = 10000\n",
    "    # 로짓 소프트맥스\n",
    "    lprobs = torch.log_softmax(logits, dim=-1)\n",
    "    # 카테고리 분포 초기화\n",
    "    distrib = torch.distributions.categorical.Categorical(logits=lprobs)\n",
    "    # 샘플 샘플링\n",
    "    samples = distrib.sample([nsamples]).permute([1, 2, 0])\n",
    "    return samples\n",
    "\n",
    "# 가능도 함수 정의\n",
    "def get_likelihood(logits, labels):\n",
    "    assert logits.shape[0] == 1\n",
    "    assert labels.shape[0] == 1\n",
    "    # 라벨 차원 체크\n",
    "    labels = labels.unsqueeze(-1) if labels.ndim == logits.ndim - 1 else labels\n",
    "    # 로짓 소프트맥스\n",
    "    lprobs = torch.log_softmax(logits, dim=-1)\n",
    "    # 로그 가능도 초기화\n",
    "    log_likelihood = lprobs.gather(dim=-1, index=labels)\n",
    "    return log_likelihood.mean(dim=1)\n",
    "\n",
    "# 샘플링 불일치 함수 정의\n",
    "def get_sampling_discrepancy(logits_ref, logits_score, labels):\n",
    "    assert logits_ref.shape[0] == 1\n",
    "    assert logits_score.shape[0] == 1\n",
    "    assert labels.shape[0] == 1\n",
    "    assert logits_ref.shape[1] == labels.shape[1]\n",
    "    # 로짓 차원 체크\n",
    "    if logits_ref.size(-1) != logits_score.size(-1):\n",
    "        # 어휘 크기 불일치 체크\n",
    "        vocab_size = min(logits_ref.size(-1), logits_score.size(-1))\n",
    "        logits_ref = logits_ref[:, :, :vocab_size]\n",
    "        logits_score = logits_score[:, :, :vocab_size]\n",
    "    # 샘플 샘플링\n",
    "    samples = get_samples(logits_ref, labels)\n",
    "    # 로그 가능도 초기화\n",
    "    log_likelihood_x = get_likelihood(logits_score, labels)\n",
    "    # 로그 가능도 초기화\n",
    "    log_likelihood_x_tilde = get_likelihood(logits_score, samples)\n",
    "    # 평균 초기화\n",
    "    miu_tilde = log_likelihood_x_tilde.mean(dim=-1)\n",
    "    # 표준 편차 초기화\n",
    "    sigma_tilde = log_likelihood_x_tilde.std(dim=-1)\n",
    "    # 불일치 초기화\n",
    "    discrepancy = (log_likelihood_x.squeeze(-1) - miu_tilde) / sigma_tilde\n",
    "    return discrepancy.item(), log_likelihood_x.squeeze(-1), miu_tilde, sigma_tilde\n",
    "\n",
    "# 샘플링 불일치 함수 정의\n",
    "def get_sampling_discrepancy_analytic(logits_ref, logits_score, labels):\n",
    "    assert logits_ref.shape[0] == 1\n",
    "    assert logits_score.shape[0] == 1\n",
    "    assert labels.shape[0] == 1\n",
    "    assert logits_ref.shape[1] == labels.shape[1]\n",
    "    # 어휘 크기 불일치 체크\n",
    "    if logits_ref.size(-1) != logits_score.size(-1):\n",
    "        raise Exception()\n",
    "\n",
    "    assert labels.ndim == logits_score.ndim - 1\n",
    "    labels = labels.unsqueeze(-1)\n",
    "    \n",
    "    lprobs_score = torch.log_softmax(logits_score, dim=-1)\n",
    "    probs_ref = torch.softmax(logits_ref, dim=-1)\n",
    "    log_likelihood = lprobs_score.gather(dim=-1, index=labels).squeeze(-1)\n",
    "    \n",
    "    # 평균 초기화\n",
    "    mean_ref = (probs_ref * lprobs_score).sum(dim=-1)\n",
    "    # 분산 초기화\n",
    "    var_ref = (probs_ref * torch.square(lprobs_score)).sum(dim=-1) - torch.square(mean_ref)\n",
    "    # 불일치 초기화\n",
    "    discrepancy = (log_likelihood.sum(dim=-1) - mean_ref.sum(dim=-1)) / var_ref.sum(dim=-1).sqrt()\n",
    "    # 불일치 평균\n",
    "    discrepancy = discrepancy.mean()\n",
    "    # 불일치, 평균, 분산 반환\n",
    "    return discrepancy.item(), mean_ref.mean(dim=-1).item(), (var_ref.sum(dim=-1).sqrt() / mean_ref.shape[-1]).item()\n"
   ]
  },
  {
   "cell_type": "markdown",
   "metadata": {},
   "source": [
    "### 언어 모델의 온도 매개변수"
   ]
  },
  {
   "cell_type": "code",
   "execution_count": null,
   "metadata": {},
   "outputs": [],
   "source": [
    "import scipy.stats\n",
    "class ImpliedTempScorer():\n",
    "\n",
    "    def __init__(self, device=\"cuda\"):\n",
    "        # 정규 분포 초기화\n",
    "        self.norm = scipy.stats.norm()\n",
    "        # 샘플 수 설정\n",
    "        self.num_samples = 60\n",
    "        # 배치 크기 설정\n",
    "        self.batch_size = 20\n",
    "        # 가짜 정규 분포 샘플 초기화\n",
    "        self.fake_normal_samples = torch.tensor(self.norm.ppf(np.linspace(1/(self.num_samples+1), 1-1/(self.num_samples + 1), self.num_samples)))\n",
    "        self.fake_temp_samples = torch.exp(self.fake_normal_samples).to(torch.float16).to(device)\n",
    "        self.device = device\n",
    "    # 온도 추정 함수 정의\n",
    "    def get_ev_of_temp(self, logits_batch, indices):\n",
    "        # logits_batch should be a tensor of shape (batch_size, num_logits)\n",
    "        # indices should be a tensor of shape (batch_size)\n",
    "        # 로짓 배치 초기화\n",
    "        logits_batch = logits_batch.to(self.device).to(torch.float16)\n",
    "        # 인덱스 초기화\n",
    "        indices = indices.to(self.device)\n",
    "\n",
    "        # 현재 배치 시작 인덱스 초기화\n",
    "        curr_subbatch_start = 0\n",
    "        all_final_temp_scores = []\n",
    "        # 배치 시작 인덱스가 로짓 배치 크기보다 작을 때 반복\n",
    "        while curr_subbatch_start < logits_batch.shape[0]:\n",
    "            # 현재 배치 끝 인덱스 초기화\n",
    "            curr_subbatch_end = min(curr_subbatch_start + self.batch_size, logits_batch.shape[0])\n",
    "            # 현재 배치 초기화\n",
    "            curr_subbatch = logits_batch[curr_subbatch_start:curr_subbatch_end]\n",
    "            # 현재 인덱스 초기화\n",
    "            curr_indices = indices[curr_subbatch_start:curr_subbatch_end]\n",
    "\n",
    "            # 로짓 세트 초기화\n",
    "            all_logit_sets = torch.matmul(curr_subbatch.unsqueeze(-1), (1/self.fake_temp_samples).unsqueeze(0))\n",
    "            # 로짓 세트 차원 체크\n",
    "            assert all_logit_sets.shape == (curr_subbatch.shape[0], logits_batch.shape[1], self.fake_temp_samples.shape[0])\n",
    "\n",
    "            # 확률 초기화\n",
    "            probs = torch.exp(torch.nn.functional.log_softmax(all_logit_sets, dim=1))\n",
    "            # 확률 차원 체크\n",
    "            prob_of_logit = probs[torch.arange(curr_subbatch.shape[0]), curr_indices]\n",
    "            assert prob_of_logit.shape == (curr_subbatch.shape[0], self.fake_temp_samples.shape[0])\n",
    "\n",
    "            # 확률 초기화\n",
    "            prob_of_temp = prob_of_logit / prob_of_logit.sum(dim=-1, keepdim=True)\n",
    "            # 온도 이벤트 초기화\n",
    "            temp_evs = torch.matmul(prob_of_temp, self.fake_temp_samples).cpu().numpy()\n",
    "            # 온도 이벤트 차원 체크\n",
    "            assert temp_evs.shape == (curr_subbatch.shape[0], self.fake_temp_samples.shape[0])\n",
    "\n",
    "            # 온도 이벤트 초기화\n",
    "            cdf_scores = self.norm.cdf(np.log(np.clip(temp_evs, 1e-10, None)))\n",
    "            # 오른쪽 카이 제곱 점수 초기화\n",
    "            right_cdf_scores = 1 - cdf_scores\n",
    "            # 로그 오른쪽 카이 제곱 점수 초기화\n",
    "            log_right_cdf_scores = np.log(np.clip(right_cdf_scores, 1e-10, None))\n",
    "            all_final_temp_scores.extend(log_right_cdf_scores)\n",
    "\n",
    "            # 현재 배치 시작 인덱스 업데이트\n",
    "            curr_subbatch_start = curr_subbatch_end\n",
    "\n",
    "        # 모든 온도 이벤트 반환\n",
    "        return np.array(all_final_temp_scores)\n",
    "    \n",
    "implied_scorer = ImpliedTempScorer(device=\"cuda\")\n"
   ]
  },
  {
   "cell_type": "markdown",
   "metadata": {},
   "source": [
    "### 계산 적용"
   ]
  },
  {
   "cell_type": "code",
   "execution_count": null,
   "metadata": {},
   "outputs": [],
   "source": [
    "# 배치 함수 정의\n",
    "def batched(iterable, n):\n",
    "    # batched('ABCDEFG', 3) --> ABC DEF G\n",
    "    # n이 1보다 작으면 오류 발생\n",
    "    if n < 1:\n",
    "        raise ValueError('n must be at least one')\n",
    "    # 반복자 초기화\n",
    "    it = iter(iterable)\n",
    "    # 배치 반복\n",
    "    while batch := tuple(itertools.islice(it, n)):\n",
    "        yield batch\n",
    "\n",
    "# 헤비스터 함수 정의\n",
    "def get_heuristics(input_df):\n",
    "    # 생성된 퍼플렉시티 초기화\n",
    "    generated_perplexity = []\n",
    "    # 인간 퍼플렉시티 초기화\n",
    "    human_perplexity = []\n",
    "    # 모든 퍼플렉시티 초기화\n",
    "    all_perplexities = []\n",
    "    # 생성된 불일치 초기화\n",
    "    generated_discs = []\n",
    "    # 인간 불일치 초기화\n",
    "    human_discs = []\n",
    "    # 모든 불일치 초기화\n",
    "    all_discs = []\n",
    "    # 생성된 로그 확률 초기화\n",
    "    generated_logprobs = []\n",
    "    # 인간 로그 확률 초기화\n",
    "    human_logprobs = []\n",
    "    # 아이디 헤비스터 초기화\n",
    "    id_to_heuristics = {}\n",
    "\n",
    "    # 텍스트 길이 기준 정렬\n",
    "    input_df = input_df.sort_values(by='text', key=lambda x: x.str.len(), ascending=False)\n",
    "\n",
    "    # 랜덤 시드 설정\n",
    "    np.random.seed(0)\n",
    "    # 랜덤 토큰 인덱스 초기화\n",
    "    unique_random_token_indices = np.random.choice(32000, 2000, replace=False)\n",
    "\n",
    "    # 헤비스터 함수 반복\n",
    "    for train_rows in tqdm(batched(input_df.iterrows(), n=10)):\n",
    "\n",
    "        train_rows = [train_row[1] for train_row in train_rows]\n",
    "        texts = [train_row[\"text\"] for train_row in train_rows]\n",
    "        example_ids = [train_row[\"id\"] for train_row in train_rows]\n",
    "\n",
    "        # 토크나이저 텍스트 토크나이징\n",
    "        tokenized = tokenizer(texts, return_tensors=\"pt\", padding=True, truncation=True, max_length=800)\n",
    "        input_ids = tokenized.input_ids\n",
    "        mask = tokenized.attention_mask\n",
    "\n",
    "        # mistral 모델 예측\n",
    "        with torch.no_grad():\n",
    "            opt = model(**tokenized)\n",
    "            \n",
    "        # 토크나이저 삭제\n",
    "        del tokenized\n",
    "        gc.collect()\n",
    "        torch.cuda.empty_cache()\n",
    "\n",
    "        # mistral 모델 로짓 초기화\n",
    "        logits = opt.logits\n",
    "\n",
    "        # 배치 인덱스 반복\n",
    "        for batch_idx in range(input_ids.shape[0]):\n",
    "\n",
    "            # 현재 예제 아이디 초기화\n",
    "            curr_example_id = example_ids[batch_idx]\n",
    "            # 선택된 로짓 인덱스 초기화\n",
    "            selected_logit_indices = []\n",
    "            # 선택된 입력 아이디 인덱스 초기화\n",
    "            selected_input_id_indices = []\n",
    "\n",
    "            # 후보 로짓 인덱스 반복\n",
    "            for candidate_logit_idx in range(logits[batch_idx].shape[0]):\n",
    "                # 후보 로짓 인덱스 체크\n",
    "                if candidate_logit_idx + 1 >= input_ids[batch_idx].shape[0]:\n",
    "                    continue\n",
    "                \n",
    "                # 패드 토큰 체크\n",
    "                if input_ids[batch_idx][candidate_logit_idx] == model.config.pad_token_id:\n",
    "                    continue\n",
    "\n",
    "                # 패드 토큰 체크\n",
    "                if input_ids[batch_idx][candidate_logit_idx + 1] == model.config.pad_token_id:\n",
    "                    continue\n",
    "                    \n",
    "                # 마스크 체크\n",
    "                if mask[batch_idx][candidate_logit_idx] == 0:\n",
    "                    continue\n",
    "                \n",
    "                # 선택된 로짓 인덱스 추가\n",
    "                selected_logit_indices.append(candidate_logit_idx)\n",
    "                selected_input_id_indices.append(candidate_logit_idx + 1)\n",
    "\n",
    "                        \n",
    "            # 선택된 로짓 초기화\n",
    "            selected_logits = logits[batch_idx][selected_logit_indices].unsqueeze(0)\n",
    "            selected_input_ids = input_ids[batch_idx][selected_input_id_indices].unsqueeze(0)\n",
    "            \n",
    "            # 온도 점수 초기화\n",
    "            temp_scores = implied_scorer.get_ev_of_temp(selected_logits[0], selected_input_ids[0])\n",
    "            \n",
    "            # 불일치 초기화\n",
    "            disc, miu, sigma = get_sampling_discrepancy_analytic(selected_logits,selected_logits, selected_input_ids)\n",
    "            \n",
    "            # 로그 확률 초기화\n",
    "            logprobs = torch.log_softmax(selected_logits, dim=-1)\n",
    "            actual_logprobs = logprobs[0][torch.arange(logprobs[0].size(0)), selected_input_ids[0]].cpu().numpy()\n",
    "            \n",
    "            # 퍼센트일 초기화\n",
    "            percentiles = np.percentile(logprobs[:, :, unique_random_token_indices], [10,20,30,40,50,60,70,80,90])\n",
    "            \n",
    "            # 실제 로그 확률 퍼센트 초기화\n",
    "            actual_percentiles = np.percentile(actual_logprobs, [10,20,30,40,50,60,70,80,90])\n",
    "            temp_score_percentiles = np.percentile(temp_scores, [10,20,30,40,50,60,70,80,90])\n",
    "\n",
    "            \n",
    "            id_to_heuristics[curr_example_id] = {\n",
    "                \"analytical_disc\": disc,\n",
    "                \"negative_entropy\": miu,\n",
    "                \"sigma\": sigma,\n",
    "                \"temp_score_mean\": np.mean(temp_scores),\n",
    "                \"temp_score_std\": np.std(temp_scores),\n",
    "                \"logprobs_mean\": np.mean(actual_logprobs),\n",
    "                \"logprobs_std\": np.std(actual_logprobs),\n",
    "                \"num_tokens\": selected_logits[0].shape[0],\n",
    "                \"logprob_percentiles\": percentiles.tolist(),\n",
    "                \"actual_logprob_percentiles\": actual_percentiles.tolist(),\n",
    "                \"tempscore_percentiles\": temp_score_percentiles.tolist()\n",
    "            }\n",
    "    \n",
    "    return id_to_heuristics\n",
    "\n",
    "# 헤비스터 함수 실행    \n",
    "if mistral_heuristic_cache is None:\n",
    "    test_quantiles = get_heuristics(test)\n",
    "\n",
    "# 헤비스터 캐시 초기화\n",
    "else:\n",
    "    test_quantiles = mistral_heuristic_cache[\"test\"]\n"
   ]
  },
  {
   "cell_type": "code",
   "execution_count": null,
   "metadata": {},
   "outputs": [],
   "source": [
    "# 모델 삭제\n",
    "del model\n",
    "del implied_scorer\n",
    "# 가비지 컬렉션 및 캐시 비우기\n",
    "gc.collect()\n",
    "torch.cuda.empty_cache()"
   ]
  },
  {
   "cell_type": "code",
   "execution_count": null,
   "metadata": {},
   "outputs": [],
   "source": [
    "# 딕셔너리 언팩 함수 정의\n",
    "def unpack_dict(data_dict):\n",
    "    # 플랜 퍼센트 초기화\n",
    "    flattened_percentiles = []\n",
    "\n",
    "    # 플랜 퍼센트 반복\n",
    "    for percentile in data_dict[\"logprob_percentiles\"]:\n",
    "        flattened_percentiles.append(percentile)\n",
    "        \n",
    "    for percentile in data_dict[\"tempscore_percentiles\"]:\n",
    "        flattened_percentiles.append(percentile)\n",
    "        \n",
    "    for percentile in data_dict[\"actual_logprob_percentiles\"]:\n",
    "        flattened_percentiles.append(percentile)\n",
    "\n",
    "    # 플랜 데이터 초기화\n",
    "    flattened_data = [\n",
    "        data_dict[\"analytical_disc\"],\n",
    "        data_dict[\"negative_entropy\"],\n",
    "        data_dict[\"sigma\"],\n",
    "        data_dict[\"temp_score_mean\"],\n",
    "        data_dict[\"temp_score_std\"],\n",
    "        data_dict[\"logprobs_mean\"],\n",
    "        data_dict[\"logprobs_std\"],\n",
    "        data_dict[\"num_tokens\"],\n",
    "    ] + flattened_percentiles\n",
    "\n",
    "    return flattened_data\n"
   ]
  },
  {
   "cell_type": "code",
   "execution_count": null,
   "metadata": {},
   "outputs": [],
   "source": [
    "# 트레인 라벨 초기화\n",
    "y_train = daigt2_train['label'].values\n",
    "# 밸 라벨 초기화\n",
    "y_val = daigt2_val['label'].values"
   ]
  },
  {
   "cell_type": "markdown",
   "metadata": {},
   "source": [
    "### 특징 추출 및 적용, 예측"
   ]
  },
  {
   "cell_type": "code",
   "execution_count": null,
   "metadata": {},
   "outputs": [],
   "source": [
    "# 토크나이저 초기화\n",
    "raw_tokenizer = Tokenizer(models.BPE(unk_token=\"[UNK]\"))\n",
    "# 토크나이저 정규화\n",
    "raw_tokenizer.normalizer = normalizers.Sequence([normalizers.NFKC(), normalizers.StripAccents(), normalizers.Strip()] + [normalizers.Lowercase()] if LOWERCASE else [])\n",
    "# 토크나이저 전처리\n",
    "raw_tokenizer.pre_tokenizer = pre_tokenizers.ByteLevel()\n",
    "# 특별 토큰 초기화\n",
    "special_tokens = [\"[UNK]\", \"[PAD]\", \"[CLS]\", \"[SEP]\", \"[MASK]\"]\n",
    "# 트레이너 초기화\n",
    "trainer = trainers.BpeTrainer(vocab_size=VOCAB_SIZE, special_tokens=special_tokens)\n",
    "# 데이터셋 초기화\n",
    "dataset = Dataset.from_pandas(test[['text']])\n",
    "# 트레인 코퍼스 반복\n",
    "def train_corp_iter(): \n",
    "    for i in range(0, len(dataset), 1000):\n",
    "        yield dataset[i : i + 1000][\"text\"]\n",
    "raw_tokenizer.train_from_iterator(train_corp_iter(), trainer=trainer)\n",
    "\n",
    "# 커스텀 토크나이저 초기화\n",
    "custom_tokenizer = PreTrainedTokenizerFast(\n",
    "    tokenizer_object=raw_tokenizer,\n",
    "    unk_token=\"[UNK]\",\n",
    "    pad_token=\"[PAD]\",\n",
    "    cls_token=\"[CLS]\",\n",
    "    sep_token=\"[SEP]\",\n",
    "    mask_token=\"[MASK]\",\n",
    ")\n",
    "\n",
    "# 토크나이저 토큰화\n",
    "tokenized_texts_test = []\n",
    "# 토크나이저 토큰화 반복\n",
    "for text in tqdm(test['text'].tolist()):\n",
    "    tokenized_texts_test.append(custom_tokenizer.tokenize(text))\n",
    "\n",
    "tokenized_texts_train = []\n",
    "\n",
    "for text in tqdm(daigt2_train['text'].tolist()):\n",
    "    tokenized_texts_train.append(custom_tokenizer.tokenize(text))"
   ]
  },
  {
   "cell_type": "code",
   "execution_count": null,
   "metadata": {},
   "outputs": [],
   "source": [
    "# 더미 함수 정의\n",
    "def dummy(text):\n",
    "    return text\n",
    "\n",
    "# 벡터라이저 초기화\n",
    "vectorizer = TfidfVectorizer(\n",
    "    ngram_range=(3, 7), lowercase=False, sublinear_tf=True, analyzer = 'word', max_df=0.99, max_features=5000000,\n",
    "    tokenizer = dummy,\n",
    "    preprocessor = dummy,\n",
    "    token_pattern = None,\n",
    ")\n",
    "\n",
    "vectorizer.fit(tokenized_texts_test)\n",
    "\n",
    "# vocab \n",
    "vocab = vectorizer.vocabulary_\n",
    "\n",
    "del vectorizer\n",
    "\n",
    "gc.collect()\n",
    "libc.malloc_trim(0)\n",
    "\n",
    "vectorizer = TfidfVectorizer(ngram_range=(3, 7), lowercase=False, sublinear_tf=True, vocabulary=vocab,\n",
    "    analyzer = 'word',\n",
    "    tokenizer = dummy,\n",
    "    preprocessor = dummy,\n",
    "    token_pattern = None\n",
    ")\n",
    "\n",
    "tf_train = vectorizer.fit_transform(tokenized_texts_train)\n",
    "tf_test = vectorizer.transform(tokenized_texts_test)\n",
    "\n",
    "del vectorizer\n",
    "gc.collect()"
   ]
  },
  {
   "cell_type": "code",
   "execution_count": null,
   "metadata": {},
   "outputs": [],
   "source": [
    "from sklearn.preprocessing import StandardScaler\n",
    "# 스케일러 초기화\n",
    "scalar = StandardScaler(with_mean=False)\n",
    "scalar.fit(tf_train)\n",
    "\n",
    "# 피처 스탠다드 초기화\n",
    "feature_stds = np.sqrt(scalar.var_)"
   ]
  },
  {
   "cell_type": "code",
   "execution_count": null,
   "metadata": {},
   "outputs": [],
   "source": [
    "# 클래스 초기화\n",
    "clf = MultinomialNB(alpha=0.02)\n",
    "# 클래스 초기화\n",
    "#     clf2 = MultinomialNB(alpha=0.01)\n",
    "sgd_model = SGDClassifier(max_iter=8000, tol=1e-4, loss=\"modified_huber\") \n",
    "# 파라미터 초기화\n",
    "p6={'n_iter': int(2500 * GBOOST_ITERATION_FRACTION),\n",
    "    'verbose': -1,\n",
    "    'objective': 'cross_entropy',\n",
    "    'learning_rate': 0.003, \n",
    "    'colsample_bytree': 0.8,\n",
    "    'colsample_bynode': 0.4}\n",
    "\n",
    "# LGBMClassifier 초기화\n",
    "lgb=LGBMClassifier(**p6)\n",
    "# CatBoostClassifier 초기화\n",
    "cat=CatBoostClassifier(iterations=int(350*GBOOST_ITERATION_FRACTION),\n",
    "   verbose=0,\n",
    "   l2_leaf_reg=6.6591278779517808,\n",
    "   learning_rate=0.01,\n",
    "   subsample = 0.4,\n",
    "   allow_const_label=True,loss_function = 'CrossEntropy')\n",
    "\n",
    "\n",
    "# 나이브 베이즈 피팅\n",
    "print(\"fitting naive bayes\")\n",
    "clf.fit(tf_train, y_train)\n",
    "# 나이브 베이즈 피팅 완료\n",
    "print(\"done fitting naive bayes\")\n",
    "# 피팅 완료\n",
    "print(\"fitting sgd\")\n",
    "sgd_model.fit(tf_train, y_train)\n",
    "print(\"done fitting sgd\")\n",
    "\n",
    "print(\"predicting with SGD and MNB\")\n",
    "clf_preds = clf.predict_proba(tf_test)[:,1]\n",
    "sgd_preds = sgd_model.predict_proba(tf_test)[:,1]\n",
    "\n",
    "print(\"done predicting with SGD and MNB\")\n",
    "\n",
    "# kept_feature_indices = []\n",
    "# for i in range(len(sgd_model.coef_[0])):\n",
    "#     if abs(sgd_model.coef_[0][i]* feature_stds[i]) > .001:\n",
    "#         kept_feature_indices.append(i)\n",
    "\n",
    "# print(f\"kept {len(kept_feature_indices)} out of {len(sgd_model.coef_[0])} features\")\n",
    "# 피처 중요도 초기화    \n",
    "feature_importances = np.abs(sgd_model.coef_[0] * feature_stds)\n",
    "\n",
    "# 피처 중요도 인덱스 초기화\n",
    "kept_feature_indices = np.argsort(feature_importances)[-6000:]\n",
    "\n",
    "# 피처 인덱스 초기화\n",
    "tf_train_trimmed = tf_train\n",
    "tf_test_trimmed = tf_test\n",
    "\n",
    "# print(\"fitting catboost\")\n",
    "# cat.fit(tf_train_trimmed, y_train)\n",
    "# print(\"done fitting catboost\")\n",
    "# 피팅 완료\n",
    "print(\"fitting lgbm\")\n",
    "# LGBMClassifier 피팅\n",
    "lgb.fit(tf_train_trimmed, y_train)\n",
    "# CatBoostClassifier 피팅\n",
    "cat.fit(tf_train_trimmed, y_train)\n",
    "print(\"done fitting lgbm\")\n",
    "gc.collect()\n",
    "\n",
    "# lgb 예측\n",
    "lgb_preds = .666 * lgb.predict_proba(tf_test_trimmed)[:,1] + .333 * cat.predict_proba(tf_test_trimmed)[:,1]\n",
    "# cat_preds = cat.predict_proba(tf_test_trimmed)[:,1]\n"
   ]
  },
  {
   "cell_type": "code",
   "execution_count": null,
   "metadata": {},
   "outputs": [],
   "source": [
    "test_id_to_prob_pred = {}\n",
    "\n",
    "for example_id, sgd_pred, mnb_pred, lgb_pred in zip(test[\"id\"].values, sgd_preds, clf_preds, lgb_preds):\n",
    "    test_id_to_prob_pred[example_id] = [sgd_pred, mnb_pred, lgb_pred]\n",
    "unique_prompt_ids = test[\"prompt_id\"].unique()\n",
    "num_prompt_ids = len(unique_prompt_ids)\n",
    "\n",
    "# 프롬프트 아이디 맵 초기화\n",
    "prompt_id_to_idx = {}\n",
    "for i, prompt_id in enumerate(unique_prompt_ids):\n",
    "    prompt_id_to_idx[prompt_id] = i\n",
    "\n",
    "test_id_to_pseudo_label = {}\n",
    "test_id_to_heuristic_features = {}\n",
    "\n",
    "# 테스트 데이터 반복\n",
    "for test_row_idx, test_row in tqdm(test.iterrows()):\n",
    "    test_id = test_row[\"id\"]\n",
    "    test_id_to_pseudo_label[test_id] = np.dot(test_id_to_prob_pred[test_id], [0.33, 0.09, 0.57])\n",
    "    test_id_to_heuristic_features[test_id] = unpack_dict(test_quantiles[test_id])# + [mean_deberta_preds[test_id]]\n",
    "    \n",
    "    prompt_id_features = num_prompt_ids * [0]\n",
    "    prompt_id_features[prompt_id_to_idx[test_row[\"prompt_id\"]]] = 1\n",
    "    test_id_to_heuristic_features[test_id].extend(prompt_id_features)"
   ]
  },
  {
   "cell_type": "code",
   "execution_count": null,
   "metadata": {},
   "outputs": [],
   "source": [
    "from sklearn.linear_model import LinearRegression\n",
    "from sklearn.model_selection import cross_val_predict, KFold\n",
    "from sklearn.ensemble import RandomForestRegressor, GradientBoostingRegressor, VotingRegressor\n",
    "\n",
    "\n",
    "heuristic_feature_matrix = []\n",
    "pseudo_labels = []\n",
    "\n",
    "# 테스트 데이터 반복\n",
    "for test_row_idx, test_row in tqdm(test.iterrows()):\n",
    "    test_id = test_row[\"id\"]\n",
    "    pseudo_labels.append(test_id_to_pseudo_label[test_id])\n",
    "    heuristic_feature_matrix.append(test_id_to_heuristic_features[test_id])\n",
    "    \n",
    "# 휴리스틱 피처 매트릭스 적용\n",
    "heuristic_feature_matrix = np.array(heuristic_feature_matrix)\n",
    "# 피처 로그 오더 적용\n",
    "pseudo_labels = safe_logodds(pseudo_labels)\n",
    "\n",
    "# 모델 초기화\n",
    "model2 = GradientBoostingRegressor()\n",
    "model3 = RandomForestRegressor()\n",
    "model4 = LinearRegression()\n",
    "\n",
    "# VotingRegressor 모델 초기화\n",
    "pseudo_regressor = VotingRegressor(\n",
    "    [\n",
    "        ('gbr', model2), \n",
    "#         ('rfr', model3),\n",
    "        ('lr', model4)\n",
    "    ],\n",
    "    weights=[1,1]  # 데모를 위한 동일 가중치\n",
    ")\n",
    "\n",
    "print(\"cross val predicting\")\n",
    "# 휴리스틱 피처 매트릭스 예측\n",
    "pseudo_regressor.fit(heuristic_feature_matrix, pseudo_labels)\n",
    "pred_from_heuristics = pseudo_regressor.predict(heuristic_feature_matrix)\n",
    "print(\"done cross val predicting\")\n",
    "\n",
    "final_preds = []\n",
    "\n",
    "# 휴리스틱 피처 매트릭스 예측 반복\n",
    "for pred_from_heuristic, pseudo_label in zip(pred_from_heuristics, pseudo_labels):\n",
    "    final_preds.append((FOLLOWER_MODEL_WEIGHT * pred_from_heuristic + pseudo_label) / (1 + FOLLOWER_MODEL_WEIGHT))"
   ]
  },
  {
   "cell_type": "code",
   "execution_count": null,
   "metadata": {},
   "outputs": [],
   "source": [
    "# 피처 매트릭스 초기화\n",
    "final_preds = np.array(final_preds)"
   ]
  },
  {
   "cell_type": "code",
   "execution_count": null,
   "metadata": {},
   "outputs": [],
   "source": [
    "# 피처 매트릭스 예측\n",
    "pseudo_regressor.fit(predict_model_features, final_preds)\n",
    "pred_from_model_features = pseudo_regressor.predict(predict_model_features)"
   ]
  },
  {
   "cell_type": "code",
   "execution_count": null,
   "metadata": {},
   "outputs": [],
   "source": [
    "# 피처 매트릭스 예측 완료\n",
    "final_preds = torch.sigmoid(torch.as_tensor(.8 * final_preds + .2 * pred_from_model_features)).numpy() * .6 + ertugrul_deberta_predictions * .4"
   ]
  }
 ],
 "metadata": {
  "kernelspec": {
   "display_name": "kaggle_venv",
   "language": "python",
   "name": "python3"
  },
  "language_info": {
   "codemirror_mode": {
    "name": "ipython",
    "version": 3
   },
   "file_extension": ".py",
   "mimetype": "text/x-python",
   "name": "python",
   "nbconvert_exporter": "python",
   "pygments_lexer": "ipython3",
   "version": "3.10.11"
  }
 },
 "nbformat": 4,
 "nbformat_minor": 2
}
